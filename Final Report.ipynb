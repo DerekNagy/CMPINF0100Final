{
 "cells": [
  {
   "cell_type": "markdown",
   "metadata": {},
   "source": [
    "# The Best Neighboorhood in Pittsburgh"
   ]
  },
  {
   "cell_type": "markdown",
   "metadata": {},
   "source": [
    "#### Group Members: Hayden G.(hmg66@pitt.edu) and Derek N.()\n",
    "#### Group Name: Blue Devils"
   ]
  },
  {
   "cell_type": "markdown",
   "metadata": {},
   "source": [
    "---"
   ]
  },
  {
   "cell_type": "markdown",
   "metadata": {},
   "source": [
    "## Data Sets:\n",
    "<span style = \"color: blue;\"><u> [Arrest Data](https://data.wprdc.org/dataset/arrest-data/resource/e03a89dd-134a-4ee8-a2bd-62c40aeebc6f) </u></span>\n",
    "\n",
    "<span style = \"color: blue;\"><u> [Neighborhood Census](https://data.wprdc.org/dataset/95af9f2c-61c8-446b-ae72-852e195684f3/resource/a8414ed5-c50f-417e-bb67-82b734660da6/download/preliminarycitypittsburghneighborhood_pl94171summary-2.csv) </u></span>\n",
    "\n",
    "<span style = \"color: blue;\"><u> [Social Service Events in Pittsburgh](https://data.wprdc.org/dataset/bigburgh-social-service-listings/resource/45afaf15-2bdd-4fe2-856b-3ba39ba4c91e) </u></span>\n"
   ]
  },
  {
   "cell_type": "markdown",
   "metadata": {},
   "source": [
    "---"
   ]
  },
  {
   "cell_type": "markdown",
   "metadata": {},
   "source": [
    "### Metrics: \n",
    "<u> Arrest Data per Neighborhood </u>\n",
    "\n",
    "<u>Social Events per Neighborhood </u>\n",
    "\n",
    "<u> Population per Neighborhood </u>"
   ]
  },
  {
   "cell_type": "markdown",
   "metadata": {},
   "source": [
    "To find the best neighborhood. We decieded to consider 3 factors that would prove of the best neighborhood. The first being Arrest Datay, we want our neighborhoods to be crime-free. The second factor would be percentage of the population in Pittsburgh. As Pittsburgh is a diverse city, diversity is going to have a fair impact on determining the best neighborhood. The last factor is Social Events per neighborhood. This factor will have a slight influence on our choice in determinig the best neighborhood as in determining a neighborhood we need to see its social vitality and community engagement."
   ]
  },
  {
   "cell_type": "code",
   "execution_count": null,
   "metadata": {},
   "outputs": [],
   "source": []
  }
 ],
 "metadata": {
  "kernelspec": {
   "display_name": "Python 3",
   "language": "python",
   "name": "python3"
  },
  "language_info": {
   "codemirror_mode": {
    "name": "ipython",
    "version": 3
   },
   "file_extension": ".py",
   "mimetype": "text/x-python",
   "name": "python",
   "nbconvert_exporter": "python",
   "pygments_lexer": "ipython3",
   "version": "3.8.3"
  }
 },
 "nbformat": 4,
 "nbformat_minor": 4
}
